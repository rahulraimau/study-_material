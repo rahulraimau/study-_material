{
 "cells": [
  {
   "cell_type": "markdown",
   "id": "692c9d6b",
   "metadata": {},
   "source": [
    "## Bernoulli Distribution"
   ]
  },
  {
   "cell_type": "code",
   "execution_count": null,
   "id": "32efc439",
   "metadata": {},
   "outputs": [],
   "source": [
    "import numpy as np\n",
    "import pandas as pd\n",
    "import matplotlib.pyplot as plt\n",
    "from scipy.stats import bernoulli\n",
    "\n",
    "p = 0.7\n",
    "data = bernoulli.rvs(p, size=1000)\n",
    "df = pd.DataFrame(data, columns=[\"Bernoulli\"])\n",
    "df[\"Bernoulli\"].value_counts().plot(kind=\"bar\", title=\"Bernoulli Distribution\")\n",
    "plt.xlabel(\"Outcome\")\n",
    "plt.ylabel(\"Frequency\")\n",
    "plt.grid(True)\n",
    "plt.show()\n",
    "df.head()"
   ]
  },
  {
   "cell_type": "markdown",
   "id": "dfb6d424",
   "metadata": {},
   "source": [
    "## Binomial Distribution"
   ]
  },
  {
   "cell_type": "code",
   "execution_count": null,
   "id": "7fbed9b8",
   "metadata": {},
   "outputs": [],
   "source": [
    "from scipy.stats import binom\n",
    "\n",
    "n, p = 10, 0.5\n",
    "data = binom.rvs(n, p, size=1000)\n",
    "df = pd.DataFrame(data, columns=[\"Binomial\"])\n",
    "df[\"Binomial\"].plot.hist(bins=n+1, rwidth=0.9, title=\"Binomial Distribution\")\n",
    "plt.xlabel(\"Number of Successes\")\n",
    "plt.grid(True)\n",
    "plt.show()\n",
    "df.head()"
   ]
  },
  {
   "cell_type": "markdown",
   "id": "d290eae1",
   "metadata": {},
   "source": [
    "## Poisson Distribution"
   ]
  },
  {
   "cell_type": "code",
   "execution_count": null,
   "id": "bb885d2e",
   "metadata": {},
   "outputs": [],
   "source": [
    "from scipy.stats import poisson\n",
    "\n",
    "mu = 4\n",
    "data = poisson.rvs(mu, size=1000)\n",
    "df = pd.DataFrame(data, columns=[\"Poisson\"])\n",
    "df[\"Poisson\"].plot.hist(bins=30, rwidth=0.9, title=\"Poisson Distribution\")\n",
    "plt.xlabel(\"Event Count\")\n",
    "plt.grid(True)\n",
    "plt.show()\n",
    "df.head()"
   ]
  },
  {
   "cell_type": "markdown",
   "id": "a2ce34c2",
   "metadata": {},
   "source": [
    "## Uniform Distribution"
   ]
  },
  {
   "cell_type": "code",
   "execution_count": null,
   "id": "738346f9",
   "metadata": {},
   "outputs": [],
   "source": [
    "from scipy.stats import uniform\n",
    "\n",
    "a, b = 0, 10\n",
    "data = uniform.rvs(loc=a, scale=b-a, size=1000)\n",
    "df = pd.DataFrame(data, columns=[\"Uniform\"])\n",
    "df[\"Uniform\"].plot.hist(bins=30, title=\"Uniform Distribution\")\n",
    "plt.xlabel(\"Value\")\n",
    "plt.grid(True)\n",
    "plt.show()\n",
    "df.head()"
   ]
  },
  {
   "cell_type": "markdown",
   "id": "7da481fd",
   "metadata": {},
   "source": [
    "## Normal Distribution"
   ]
  },
  {
   "cell_type": "code",
   "execution_count": null,
   "id": "a0006cd5",
   "metadata": {},
   "outputs": [],
   "source": [
    "from scipy.stats import norm\n",
    "\n",
    "mu, sigma = 0, 1\n",
    "data = norm.rvs(loc=mu, scale=sigma, size=1000)\n",
    "df = pd.DataFrame(data, columns=[\"Normal\"])\n",
    "df[\"Normal\"].plot.kde(title=\"Normal Distribution\")\n",
    "plt.grid(True)\n",
    "plt.show()\n",
    "df.head()"
   ]
  },
  {
   "cell_type": "markdown",
   "id": "a57846b3",
   "metadata": {},
   "source": [
    "## Exponential Distribution"
   ]
  },
  {
   "cell_type": "code",
   "execution_count": null,
   "id": "5832427a",
   "metadata": {},
   "outputs": [],
   "source": [
    "from scipy.stats import expon\n",
    "\n",
    "scale = 1\n",
    "data = expon.rvs(scale=scale, size=1000)\n",
    "df = pd.DataFrame(data, columns=[\"Exponential\"])\n",
    "df[\"Exponential\"].plot.hist(bins=30, title=\"Exponential Distribution\")\n",
    "plt.grid(True)\n",
    "plt.show()\n",
    "df.head()"
   ]
  },
  {
   "cell_type": "markdown",
   "id": "f7180772",
   "metadata": {},
   "source": [
    "## Student's t-Distribution"
   ]
  },
  {
   "cell_type": "code",
   "execution_count": null,
   "id": "23e83b2d",
   "metadata": {},
   "outputs": [],
   "source": [
    "from scipy.stats import t\n",
    "\n",
    "df_t = 10\n",
    "data = t.rvs(df_t, size=1000)\n",
    "df = pd.DataFrame(data, columns=[\"T\"])\n",
    "df[\"T\"].plot.kde(title=\"Student's t-Distribution\")\n",
    "plt.grid(True)\n",
    "plt.show()\n",
    "df.head()"
   ]
  },
  {
   "cell_type": "markdown",
   "id": "87a49713",
   "metadata": {},
   "source": [
    "## Chi-Square Distribution"
   ]
  },
  {
   "cell_type": "code",
   "execution_count": null,
   "id": "c01ffe99",
   "metadata": {},
   "outputs": [],
   "source": [
    "from scipy.stats import chi2\n",
    "\n",
    "df_chi = 5\n",
    "data = chi2.rvs(df_chi, size=1000)\n",
    "df = pd.DataFrame(data, columns=[\"Chi-Square\"])\n",
    "df[\"Chi-Square\"].plot.hist(bins=30, title=\"Chi-Square Distribution\")\n",
    "plt.grid(True)\n",
    "plt.show()\n",
    "df.head()"
   ]
  },
  {
   "cell_type": "markdown",
   "id": "a7d0c94f",
   "metadata": {},
   "source": [
    "## Gamma Distribution"
   ]
  },
  {
   "cell_type": "code",
   "execution_count": null,
   "id": "3659172c",
   "metadata": {},
   "outputs": [],
   "source": [
    "from scipy.stats import gamma\n",
    "\n",
    "shape, scale = 2, 1\n",
    "data = gamma.rvs(a=shape, scale=scale, size=1000)\n",
    "df = pd.DataFrame(data, columns=[\"Gamma\"])\n",
    "df[\"Gamma\"].plot.hist(bins=30, title=\"Gamma Distribution\")\n",
    "plt.grid(True)\n",
    "plt.show()\n",
    "df.head()"
   ]
  },
  {
   "cell_type": "markdown",
   "id": "f5a30639",
   "metadata": {},
   "source": [
    "## Beta Distribution"
   ]
  },
  {
   "cell_type": "code",
   "execution_count": null,
   "id": "963ad887",
   "metadata": {},
   "outputs": [],
   "source": [
    "from scipy.stats import beta\n",
    "\n",
    "a, b = 2, 5\n",
    "x = np.linspace(0, 1, 100)\n",
    "y = beta.pdf(x, a, b)\n",
    "plt.plot(x, y, label=f\"Beta({a},{b})\")\n",
    "plt.title(\"Beta Distribution PDF\")\n",
    "plt.legend()\n",
    "plt.grid(True)\n",
    "plt.show()"
   ]
  },
  {
   "cell_type": "markdown",
   "id": "6b291479",
   "metadata": {},
   "source": [
    "## Multinomial Distribution (Preview Only)"
   ]
  },
  {
   "cell_type": "code",
   "execution_count": null,
   "id": "2989477b",
   "metadata": {},
   "outputs": [],
   "source": [
    "np.random.multinomial(10, [0.3, 0.5, 0.2], size=5)"
   ]
  },
  {
   "cell_type": "markdown",
   "id": "ecb5ffd4",
   "metadata": {},
   "source": [
    "## Multivariate Normal Distribution (Preview Only)"
   ]
  },
  {
   "cell_type": "code",
   "execution_count": null,
   "id": "0c2533d3",
   "metadata": {},
   "outputs": [],
   "source": [
    "mean = [0, 0]\n",
    "cov = [[1, 0.8], [0.8, 1]]\n",
    "from numpy.random import multivariate_normal\n",
    "data = multivariate_normal(mean, cov, size=500)\n",
    "df = pd.DataFrame(data, columns=[\"X1\", \"X2\"])\n",
    "df.plot.scatter(x=\"X1\", y=\"X2\", title=\"Multivariate Normal Distribution\")\n",
    "plt.grid(True)\n",
    "plt.show()"
   ]
  },
  {
   "cell_type": "markdown",
   "id": "3ff0fb8b",
   "metadata": {},
   "source": [
    "## Dirichlet Distribution (Preview Only)"
   ]
  },
  {
   "cell_type": "code",
   "execution_count": null,
   "id": "622f7c99",
   "metadata": {},
   "outputs": [],
   "source": [
    "from numpy.random import dirichlet\n",
    "alpha = [1, 2, 3]\n",
    "dirichlet(alpha, size=5)"
   ]
  }
 ],
 "metadata": {},
 "nbformat": 4,
 "nbformat_minor": 5
}