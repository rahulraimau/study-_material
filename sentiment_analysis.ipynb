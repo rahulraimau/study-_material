{
 "cells": [
  {
   "cell_type": "code",
   "execution_count": 2,
   "id": "fef34f54-de58-40e4-995a-011ea7484a5e",
   "metadata": {},
   "outputs": [
    {
     "name": "stdout",
     "output_type": "stream",
     "text": [
      "Defaulting to user installation because normal site-packages is not writeable\n",
      "Collecting kagglehub\n",
      "  Downloading kagglehub-0.3.12-py3-none-any.whl.metadata (38 kB)\n",
      "Requirement already satisfied: packaging in c:\\programdata\\anaconda3\\lib\\site-packages (from kagglehub) (24.1)\n",
      "Requirement already satisfied: pyyaml in c:\\programdata\\anaconda3\\lib\\site-packages (from kagglehub) (6.0.1)\n",
      "Requirement already satisfied: requests in c:\\programdata\\anaconda3\\lib\\site-packages (from kagglehub) (2.32.3)\n",
      "Requirement already satisfied: tqdm in c:\\programdata\\anaconda3\\lib\\site-packages (from kagglehub) (4.66.5)\n",
      "Requirement already satisfied: charset-normalizer<4,>=2 in c:\\programdata\\anaconda3\\lib\\site-packages (from requests->kagglehub) (3.3.2)\n",
      "Requirement already satisfied: idna<4,>=2.5 in c:\\programdata\\anaconda3\\lib\\site-packages (from requests->kagglehub) (3.7)\n",
      "Requirement already satisfied: urllib3<3,>=1.21.1 in c:\\programdata\\anaconda3\\lib\\site-packages (from requests->kagglehub) (2.2.3)\n",
      "Requirement already satisfied: certifi>=2017.4.17 in c:\\programdata\\anaconda3\\lib\\site-packages (from requests->kagglehub) (2025.4.26)\n",
      "Requirement already satisfied: colorama in c:\\programdata\\anaconda3\\lib\\site-packages (from tqdm->kagglehub) (0.4.6)\n",
      "Downloading kagglehub-0.3.12-py3-none-any.whl (67 kB)\n",
      "Installing collected packages: kagglehub\n",
      "Successfully installed kagglehub-0.3.12\n",
      "Note: you may need to restart the kernel to use updated packages.\n"
     ]
    }
   ],
   "source": [
    "pip install kagglehub"
   ]
  },
  {
   "cell_type": "code",
   "execution_count": 10,
   "id": "a3090115-fb57-4284-990e-2ff72b59e2f5",
   "metadata": {},
   "outputs": [],
   "source": [
    "import kagglehub\n",
    "import zipfile\n",
    "import os\n",
    "import pandas as pd"
   ]
  },
  {
   "cell_type": "code",
   "execution_count": 4,
   "id": "034095ff-1473-4c95-8f56-219f68b07b37",
   "metadata": {},
   "outputs": [
    {
     "name": "stdout",
     "output_type": "stream",
     "text": [
      "Path to dataset files: C:\\Users\\DELL\\.cache\\kagglehub\\datasets\\kazanova\\sentiment140\\versions\\2\n"
     ]
    }
   ],
   "source": [
    "import kagglehub\n",
    "\n",
    "# Download latest version\n",
    "path = kagglehub.dataset_download(\"kazanova/sentiment140\")\n",
    "\n",
    "print(\"Path to dataset files:\", path)"
   ]
  },
  {
   "cell_type": "code",
   "execution_count": 11,
   "id": "900bb28e-756d-4481-95c7-efa203e67c1b",
   "metadata": {},
   "outputs": [],
   "source": [
    "zip_files = [f for f in os.listdir(path) if f.endswith(\".zip\")]\n",
    "\n",
    "for zip_file in zip_files:\n",
    "    with zipfile.ZipFile(os.path.join(path, zip_file), 'r') as zip_ref:\n",
    "        zip_ref.extractall(path)"
   ]
  },
  {
   "cell_type": "code",
   "execution_count": 12,
   "id": "cba32740-b394-443a-bdc2-39cc8ed6bae0",
   "metadata": {},
   "outputs": [
    {
     "name": "stdout",
     "output_type": "stream",
     "text": [
      "Extracted files: ['training.1600000.processed.noemoticon.csv']\n"
     ]
    }
   ],
   "source": [
    "dataset_files = [f for f in os.listdir(path) if f.endswith(\".csv\") or f.endswith(\".txt\")]\n",
    "print(\"Extracted files:\", dataset_files)"
   ]
  },
  {
   "cell_type": "code",
   "execution_count": 13,
   "id": "ab7fee9b-a2a2-4d8d-b2ed-81915ca13132",
   "metadata": {},
   "outputs": [],
   "source": [
    "file_path = os.path.join(path, \"training.1600000.processed.noemoticon.csv\")"
   ]
  },
  {
   "cell_type": "code",
   "execution_count": 15,
   "id": "ce7892d8-2ec4-4a8f-9c4c-4a07319fa328",
   "metadata": {},
   "outputs": [
    {
     "name": "stdout",
     "output_type": "stream",
     "text": [
      "\"0\",\"1467810369\",\"Mon Apr 06 22:19:45 PDT 2009\",\"NO_QUERY\",\"_TheSpecialOne_\",\"@switchfoot http://twitpic.com/2y1zl - Awww, that's a bummer.  You shoulda got David Carr of Third Day to do it. ;D\"\n",
      "\n",
      "\"0\",\"1467810672\",\"Mon Apr 06 22:19:49 PDT 2009\",\"NO_QUERY\",\"scotthamilton\",\"is upset that he can't update his Facebook by texting it... and might cry as a result  School today also. Blah!\"\n",
      "\n",
      "\"0\",\"1467810917\",\"Mon Apr 06 22:19:53 PDT 2009\",\"NO_QUERY\",\"mattycus\",\"@Kenichan I dived many times for the ball. Managed to save 50%  The rest go out of bounds\"\n",
      "\n",
      "\"0\",\"1467811184\",\"Mon Apr 06 22:19:57 PDT 2009\",\"NO_QUERY\",\"ElleCTF\",\"my whole body feels itchy and like its on fire \"\n",
      "\n",
      "\"0\",\"1467811193\",\"Mon Apr 06 22:19:57 PDT 2009\",\"NO_QUERY\",\"Karoli\",\"@nationwideclass no, it's not behaving at all. i'm mad. why am i here? because I can't see you all over there. \"\n",
      "\n"
     ]
    }
   ],
   "source": [
    "with open(file_path, encoding='ISO-8859-1') as f:\n",
    "    for _ in range(5):\n",
    "        print(f.readline())"
   ]
  },
  {
   "cell_type": "code",
   "execution_count": 14,
   "id": "d840ae3b-2b09-47cc-94bf-3d6c7c49c0d6",
   "metadata": {},
   "outputs": [
    {
     "name": "stdout",
     "output_type": "stream",
     "text": [
      "   target         ids                          date      flag  \\\n",
      "0       0  1467810369  Mon Apr 06 22:19:45 PDT 2009  NO_QUERY   \n",
      "1       0  1467810672  Mon Apr 06 22:19:49 PDT 2009  NO_QUERY   \n",
      "2       0  1467810917  Mon Apr 06 22:19:53 PDT 2009  NO_QUERY   \n",
      "3       0  1467811184  Mon Apr 06 22:19:57 PDT 2009  NO_QUERY   \n",
      "4       0  1467811193  Mon Apr 06 22:19:57 PDT 2009  NO_QUERY   \n",
      "\n",
      "              user                                               text  \n",
      "0  _TheSpecialOne_  @switchfoot http://twitpic.com/2y1zl - Awww, t...  \n",
      "1    scotthamilton  is upset that he can't update his Facebook by ...  \n",
      "2         mattycus  @Kenichan I dived many times for the ball. Man...  \n",
      "3          ElleCTF    my whole body feels itchy and like its on fire   \n",
      "4           Karoli  @nationwideclass no, it's not behaving at all....  \n"
     ]
    }
   ],
   "source": [
    "columns = [\"target\", \"ids\", \"date\", \"flag\", \"user\", \"text\"]\n",
    "\n",
    "df = pd.read_csv(file_path, encoding='ISO-8859-1', names=columns)\n",
    "\n",
    "# Step 5: View sample data\n",
    "print(df.head())"
   ]
  },
  {
   "cell_type": "code",
   "execution_count": null,
   "id": "daeb1056-a40c-4add-9c8a-60c41ac7d00a",
   "metadata": {},
   "outputs": [],
   "source": []
  }
 ],
 "metadata": {
  "kernelspec": {
   "display_name": "Python [conda env:base] *",
   "language": "python",
   "name": "conda-base-py"
  },
  "language_info": {
   "codemirror_mode": {
    "name": "ipython",
    "version": 3
   },
   "file_extension": ".py",
   "mimetype": "text/x-python",
   "name": "python",
   "nbconvert_exporter": "python",
   "pygments_lexer": "ipython3",
   "version": "3.12.7"
  }
 },
 "nbformat": 4,
 "nbformat_minor": 5
}
