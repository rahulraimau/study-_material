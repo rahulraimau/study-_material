{
 "cells": [
  {
   "cell_type": "markdown",
   "id": "4a589765",
   "metadata": {},
   "source": [
    "# 🛒 Retail Analysis Project with EDA and Machine Learning\n",
    "This project includes Sales Trend Analysis, EDA, and Market Basket Analysis. We'll also use ML algorithms to predict sales."
   ]
  },
  {
   "cell_type": "markdown",
   "id": "a059dd3f",
   "metadata": {},
   "source": [
    "## 📊 Load and Display Data"
   ]
  },
  {
   "cell_type": "code",
   "execution_count": null,
   "id": "9b41078e",
   "metadata": {},
   "outputs": [],
   "source": [
    "import pandas as pd\n",
    "\n",
    "# Load the retail sales data\n",
    "df = pd.read_csv('RetailSales.csv')  # Replace with correct path\n",
    "df.head()"
   ]
  },
  {
   "cell_type": "markdown",
   "id": "f9c54374",
   "metadata": {},
   "source": [
    "## 🧹 Exploratory Data Analysis (EDA)"
   ]
  },
  {
   "cell_type": "code",
   "execution_count": null,
   "id": "4279a662",
   "metadata": {},
   "outputs": [],
   "source": [
    "df.info()\n",
    "df.describe()"
   ]
  },
  {
   "cell_type": "code",
   "execution_count": null,
   "id": "e30ff32c",
   "metadata": {},
   "outputs": [],
   "source": [
    "import matplotlib.pyplot as plt\n",
    "import seaborn as sns\n",
    "\n",
    "df['Date'] = pd.to_datetime(df['Date'])\n",
    "plt.figure(figsize=(12, 6))\n",
    "sns.lineplot(data=df.groupby('Date')['Weekly_Sales'].sum().reset_index(), x='Date', y='Weekly_Sales')\n",
    "plt.title('Total Weekly Sales Over Time')\n",
    "plt.xlabel('Date')\n",
    "plt.ylabel('Sales')\n",
    "plt.xticks(rotation=45)\n",
    "plt.tight_layout()\n",
    "plt.show()"
   ]
  },
  {
   "cell_type": "markdown",
   "id": "b40f2e96",
   "metadata": {},
   "source": [
    "## 🛠️ Data Preprocessing"
   ]
  },
  {
   "cell_type": "code",
   "execution_count": null,
   "id": "201e6b9b",
   "metadata": {},
   "outputs": [],
   "source": [
    "df = df.dropna()\n",
    "df = df[df['Weekly_Sales'] > 0]\n",
    "\n",
    "# Feature engineering\n",
    "df['Month'] = df['Date'].dt.month\n",
    "df['Day'] = df['Date'].dt.day\n",
    "df['Year'] = df['Date'].dt.year\n",
    "\n",
    "# Select features and target\n",
    "X = df[['Store', 'Dept', 'Month', 'Day', 'Year']]\n",
    "y = df['Weekly_Sales']\n",
    "\n",
    "# Train-test split\n",
    "from sklearn.model_selection import train_test_split\n",
    "X_train, X_test, y_train, y_test = train_test_split(X, y, test_size=0.2, random_state=42)"
   ]
  },
  {
   "cell_type": "markdown",
   "id": "e9b59964",
   "metadata": {},
   "source": [
    "## 🤖 Machine Learning Model - Random Forest Regressor"
   ]
  },
  {
   "cell_type": "code",
   "execution_count": null,
   "id": "ab155963",
   "metadata": {},
   "outputs": [],
   "source": [
    "from sklearn.ensemble import RandomForestRegressor\n",
    "from sklearn.metrics import mean_absolute_error, mean_squared_error, r2_score\n",
    "\n",
    "model = RandomForestRegressor(random_state=42)\n",
    "model.fit(X_train, y_train)\n",
    "y_pred = model.predict(X_test)\n",
    "\n",
    "# Evaluation Metrics\n",
    "mae = mean_absolute_error(y_test, y_pred)\n",
    "mse = mean_squared_error(y_test, y_pred)\n",
    "rmse = mse ** 0.5\n",
    "r2 = r2_score(y_test, y_pred)\n",
    "\n",
    "print(f\"MAE: {mae:.2f}\")\n",
    "print(f\"MSE: {mse:.2f}\")\n",
    "print(f\"RMSE: {rmse:.2f}\")\n",
    "print(f\"R²: {r2:.2f}\")"
   ]
  },
  {
   "cell_type": "markdown",
   "id": "2b037487",
   "metadata": {},
   "source": [
    "## 🧪 Hyperparameter Tuning - GridSearchCV"
   ]
  },
  {
   "cell_type": "code",
   "execution_count": null,
   "id": "f2d1aa05",
   "metadata": {},
   "outputs": [],
   "source": [
    "from sklearn.model_selection import GridSearchCV\n",
    "\n",
    "param_grid = {\n",
    "    'n_estimators': [50, 100],\n",
    "    'max_depth': [None, 10, 20]\n",
    "}\n",
    "\n",
    "grid_search = GridSearchCV(estimator=RandomForestRegressor(random_state=42),\n",
    "                           param_grid=param_grid,\n",
    "                           scoring='r2',\n",
    "                           cv=3,\n",
    "                           n_jobs=-1)\n",
    "grid_search.fit(X_train, y_train)\n",
    "best_model = grid_search.best_estimator_\n",
    "\n",
    "# Evaluate best model\n",
    "best_pred = best_model.predict(X_test)\n",
    "best_r2 = r2_score(y_test, best_pred)\n",
    "print(f\"Best R² after tuning: {best_r2:.2f}\")"
   ]
  }
 ],
 "metadata": {
  "kernelspec": {
   "display_name": "Python [conda env:base] *",
   "language": "python",
   "name": "conda-base-py"
  },
  "language_info": {
   "codemirror_mode": {
    "name": "ipython",
    "version": 3
   },
   "file_extension": ".py",
   "mimetype": "text/x-python",
   "name": "python",
   "nbconvert_exporter": "python",
   "pygments_lexer": "ipython3",
   "version": "3.12.7"
  }
 },
 "nbformat": 4,
 "nbformat_minor": 5
}
