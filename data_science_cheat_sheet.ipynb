{
 "cells": [
  {
   "cell_type": "markdown",
   "id": "b70717d4",
   "metadata": {},
   "source": [
    "# 1. Python for Data Science\n",
    "Useful Libraries and Commands"
   ]
  },
  {
   "cell_type": "code",
   "execution_count": null,
   "id": "f08a6057",
   "metadata": {},
   "outputs": [],
   "source": [
    "import pandas as pd\n",
    "import numpy as np\n",
    "import matplotlib.pyplot as plt\n",
    "import seaborn as sns\n",
    "\n",
    "# Load a dataset\n",
    "df = pd.read_csv('your_dataset.csv')\n",
    "\n",
    "# Explore the dataset\n",
    "df.head()\n",
    "df.describe()\n",
    "df.info()\n",
    "df.isnull().sum()\n",
    "df['column_name'].value_counts()"
   ]
  },
  {
   "cell_type": "markdown",
   "id": "ed0f6b6e",
   "metadata": {},
   "source": [
    "# 2. Exploratory Data Analysis"
   ]
  },
  {
   "cell_type": "code",
   "execution_count": null,
   "id": "562835b3",
   "metadata": {},
   "outputs": [],
   "source": [
    "# Histograms and boxplots\n",
    "df['column_name'].hist()\n",
    "sns.boxplot(x='column_name', data=df)\n",
    "\n",
    "# Correlation heatmap\n",
    "sns.heatmap(df.corr(), annot=True)"
   ]
  },
  {
   "cell_type": "markdown",
   "id": "f53cefb9",
   "metadata": {},
   "source": [
    "# 3. Statistics & Probability"
   ]
  },
  {
   "cell_type": "code",
   "execution_count": null,
   "id": "ec8f40e9",
   "metadata": {},
   "outputs": [],
   "source": [
    "mean_val = df['column_name'].mean()\n",
    "median_val = df['column_name'].median()\n",
    "std_dev = df['column_name'].std()\n",
    "\n",
    "print(\"Mean:\", mean_val, \"Median:\", median_val, \"StdDev:\", std_dev)"
   ]
  },
  {
   "cell_type": "markdown",
   "id": "b272f0ea",
   "metadata": {},
   "source": [
    "# 4. Feature Engineering"
   ]
  },
  {
   "cell_type": "code",
   "execution_count": null,
   "id": "0b1417e9",
   "metadata": {},
   "outputs": [],
   "source": [
    "from sklearn.preprocessing import StandardScaler, LabelEncoder\n",
    "\n",
    "scaler = StandardScaler()\n",
    "df[['scaled_column']] = scaler.fit_transform(df[['column_name']])\n",
    "\n",
    "encoder = LabelEncoder()\n",
    "df['encoded_col'] = encoder.fit_transform(df['categorical_col'])"
   ]
  },
  {
   "cell_type": "markdown",
   "id": "bdbc9926",
   "metadata": {},
   "source": [
    "# 5. Model Building"
   ]
  },
  {
   "cell_type": "code",
   "execution_count": null,
   "id": "59a07ceb",
   "metadata": {},
   "outputs": [],
   "source": [
    "from sklearn.model_selection import train_test_split\n",
    "from sklearn.linear_model import LogisticRegression\n",
    "\n",
    "X = df.drop('target', axis=1)\n",
    "y = df['target']\n",
    "\n",
    "X_train, X_test, y_train, y_test = train_test_split(X, y, test_size=0.2)\n",
    "model = LogisticRegression().fit(X_train, y_train)"
   ]
  },
  {
   "cell_type": "markdown",
   "id": "c8b3098c",
   "metadata": {},
   "source": [
    "# 6. Model Evaluation"
   ]
  },
  {
   "cell_type": "code",
   "execution_count": null,
   "id": "830281fa",
   "metadata": {},
   "outputs": [],
   "source": [
    "from sklearn.metrics import accuracy_score, classification_report\n",
    "\n",
    "y_pred = model.predict(X_test)\n",
    "print(\"Accuracy:\", accuracy_score(y_test, y_pred))\n",
    "print(classification_report(y_test, y_pred))"
   ]
  },
  {
   "cell_type": "markdown",
   "id": "0d7d3298",
   "metadata": {},
   "source": [
    "# 7. Cross Validation & Hyperparameter Tuning"
   ]
  },
  {
   "cell_type": "code",
   "execution_count": null,
   "id": "ffe7b8ce",
   "metadata": {},
   "outputs": [],
   "source": [
    "from sklearn.model_selection import GridSearchCV\n",
    "\n",
    "param_grid = {'C': [0.1, 1, 10]}\n",
    "grid = GridSearchCV(LogisticRegression(), param_grid, cv=5)\n",
    "grid.fit(X_train, y_train)\n",
    "print(\"Best Parameters:\", grid.best_params_)"
   ]
  },
  {
   "cell_type": "markdown",
   "id": "56b97a74",
   "metadata": {},
   "source": [
    "# 8. NLP Basics"
   ]
  },
  {
   "cell_type": "code",
   "execution_count": null,
   "id": "1091566c",
   "metadata": {},
   "outputs": [],
   "source": [
    "import nltk\n",
    "from sklearn.feature_extraction.text import TfidfVectorizer\n",
    "\n",
    "nltk.download('punkt')\n",
    "corpus = [\"This is an example.\", \"Data Science is fun!\"]\n",
    "vectorizer = TfidfVectorizer()\n",
    "X_vec = vectorizer.fit_transform(corpus)\n",
    "print(X_vec.toarray())"
   ]
  },
  {
   "cell_type": "markdown",
   "id": "2bb8477a",
   "metadata": {},
   "source": [
    "# 9. Time Series Analysis"
   ]
  },
  {
   "cell_type": "code",
   "execution_count": null,
   "id": "c16c781e",
   "metadata": {},
   "outputs": [],
   "source": [
    "df['Date'] = pd.to_datetime(df['Date'])\n",
    "df.set_index('Date', inplace=True)\n",
    "df['column_name'].plot(figsize=(10, 4), title='Time Series Plot')"
   ]
  }
 ],
 "metadata": {},
 "nbformat": 4,
 "nbformat_minor": 5
}
